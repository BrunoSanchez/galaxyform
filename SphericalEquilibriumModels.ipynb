{
 "cells": [
  {
   "cell_type": "markdown",
   "metadata": {},
   "source": [
    "Al estudiar la dinamica *no-colisional* de un fluido en un potencial $\\Phi(\\vec{x})$, \n",
    "podemos utilizar la llamada funcion distribucion (o DF)  $f(\\vec{x}, \\vec{v}, t)$, que \n",
    "describe la densidad numerica en las distintas regiones del espacio de las fases.\n",
    "\n",
    "Utilizando la *Collisionless Boltzmann Equation* (CBE) \n",
    "\n",
    "$\\frac{d f}{dt} = \\frac{\\partial f}{\\partial t} + \\sum\\limits_i \\mathcal{v}_i \\frac{\\partial f}{\\partial x_i} - \\sum\\limits_i \\frac{\\partial \\Phi}{\\partial x_i}\\frac{\\partial f}{\\partial x_i}$\n",
    "\n",
    "podemos arribar a la ecuacion de *Jeans*\n",
    "\n",
    "$\\frac{\\partial <v_j>}{\\partial t} + \\sum\\limits_i<v_i>\\frac{\\partial <v_j>}{\\partial x_i} = \n",
    " -\\frac{1}{n} \\sum\\limits_i \\frac{\\partial (n \\sigma_{ij}^2)}{\\partial x_i} - \\frac{\\partial \\Phi}{\\partial x_j}$\n",
    "\n",
    "\n",
    "Ademas se puede arribar al teorema del Virial\n",
    "\n",
    "$E = -K = \\frac{W}{2}$"
   ]
  },
  {
   "cell_type": "markdown",
   "metadata": {},
   "source": [
    "# Spherical Equilibrium Models"
   ]
  },
  {
   "cell_type": "markdown",
   "metadata": {},
   "source": [
    "1. Isothermal Sphere\n",
    "2. King Model"
   ]
  },
  {
   "cell_type": "markdown",
   "metadata": {},
   "source": [
    "* Double Power-Law Density Distributions\n",
    "\n",
    "    $\\rho(\\bf{r}) = \\rho_0 \\left( \\frac{\\bf{r}}{\\bf{r_0}} \\right)^-\\gamma \n",
    "     \\left[ 1 + \\left( \\frac{\\bf{r}}{\\bf{r_0}} \\right)^\\alpha \\right]^{(\\gamma - \\beta)/\\alpha}$\n",
    "     \n",
    "     Con varios posibles parametros, para $\\alpha$, $\\beta$ y $\\gamma$."
   ]
  },
  {
   "cell_type": "markdown",
   "metadata": {},
   "source": [
    "\n",
    "\n",
    "|($\\alpha$,$\\beta$,$\\gamma$)|Name|\n",
    "|---------------------------|-----------|\n",
    "| (1,3,1)                 | NFW       |\n",
    "| (1,4,1)                 | Hernquist |"
   ]
  },
  {
   "cell_type": "code",
   "execution_count": 92,
   "metadata": {
    "collapsed": true
   },
   "outputs": [],
   "source": [
    "import numpy as np\n",
    "from scipy.integrate import quad"
   ]
  },
  {
   "cell_type": "code",
   "execution_count": 93,
   "metadata": {
    "collapsed": true
   },
   "outputs": [],
   "source": [
    "import matplotlib.pyplot as plt\n",
    "%matplotlib inline"
   ]
  },
  {
   "cell_type": "code",
   "execution_count": 104,
   "metadata": {
    "collapsed": true
   },
   "outputs": [],
   "source": [
    "def rho(r, alpha, beta, gamma, rho0):\n",
    "    r_ = r/rho0\n",
    "    rho = rho0 * (r_**-gamma) * (1+r_**alpha)**((gamma-beta)/alpha)\n",
    "    \n",
    "    return rho * r_*r_"
   ]
  },
  {
   "cell_type": "code",
   "execution_count": 105,
   "metadata": {},
   "outputs": [],
   "source": [
    "def mass(r, alpha, beta, gamma, rho0):\n",
    "    return quad(rho, 0, r, args=(alpha, beta, gamma, rho0))[0]"
   ]
  },
  {
   "cell_type": "code",
   "execution_count": 119,
   "metadata": {
    "collapsed": true
   },
   "outputs": [],
   "source": [
    "rs = np.arange(0.1, 10000, 0.5)"
   ]
  },
  {
   "cell_type": "code",
   "execution_count": 120,
   "metadata": {},
   "outputs": [
    {
     "name": "stdout",
     "output_type": "stream",
     "text": [
      "CPU times: user 5.96 s, sys: 72 ms, total: 6.04 s\n",
      "Wall time: 5.97 s\n"
     ]
    }
   ],
   "source": [
    "nfw_ = lambda r: mass(r, 1, 3, 1, 1)\n",
    "nfw_ = np.vectorize(nfw_)\n",
    "%time nfw = nfw_(rs)"
   ]
  },
  {
   "cell_type": "code",
   "execution_count": 121,
   "metadata": {},
   "outputs": [
    {
     "name": "stdout",
     "output_type": "stream",
     "text": [
      "CPU times: user 6.3 s, sys: 120 ms, total: 6.42 s\n",
      "Wall time: 6.23 s\n"
     ]
    }
   ],
   "source": [
    "hern = lambda r: mass(r, 1, 4, 1, 1)\n",
    "hern = np.vectorize(hern)\n",
    "%time hernq = hern(rs)"
   ]
  },
  {
   "cell_type": "code",
   "execution_count": 122,
   "metadata": {},
   "outputs": [
    {
     "name": "stdout",
     "output_type": "stream",
     "text": [
      "CPU times: user 13 s, sys: 140 ms, total: 13.2 s\n",
      "Wall time: 12.9 s\n"
     ]
    }
   ],
   "source": [
    "%time hernq = map(hern, rs)"
   ]
  },
  {
   "cell_type": "code",
   "execution_count": 123,
   "metadata": {},
   "outputs": [
    {
     "name": "stdout",
     "output_type": "stream",
     "text": [
      "CPU times: user 6.82 s, sys: 112 ms, total: 6.93 s\n",
      "Wall time: 6.8 s\n"
     ]
    }
   ],
   "source": [
    "jaf_ = lambda r: mass(r, 1, 4, 2, 1)\n",
    "jaf_ = np.vectorize(jaf_)\n",
    "%time jaffe = jaf_(rs)"
   ]
  },
  {
   "cell_type": "code",
   "execution_count": 124,
   "metadata": {},
   "outputs": [],
   "source": [
    "isot_ = lambda r: mass(r, 2, 2, 0, 1)\n",
    "isot_ = np.vectorize(isot_)\n",
    "%time isotherm = isot_(rs)"
   ]
  },
  {
   "cell_type": "code",
   "execution_count": 127,
   "metadata": {
    "collapsed": true
   },
   "outputs": [],
   "source": [
    "hub_ = lambda r: mass(r, 2, 3, 0, 1)\n",
    "hub_ = np.vectorize(hub_)\n",
    "%time hubble = hub_(rs)"
   ]
  },
  {
   "cell_type": "code",
   "execution_count": 130,
   "metadata": {
    "scrolled": false
   },
   "outputs": [
    {
     "data": {
      "image/png": "[encoded data removed]",
      "text/plain": [
       "<matplotlib.figure.Figure at 0x7f0a0e6540d0>"
      ]
     },
     "metadata": {},
     "output_type": "display_data"
    }
   ],
   "source": [
    "plt.figure(figsize=(8,6))\n",
    "plt.loglog(rs, nfw, 'b-', label='NFW')\n",
    "plt.loglog(rs, hernq, 'r-', label='Hernquist')\n",
    "plt.loglog(rs, jaffe, 'g-', label='Jaffe')\n",
    "plt.loglog(rs, isotherm, '-', color='darkred', label='Modif. Isothermal')\n",
    "plt.loglog(rs, hubble, '-', color='darkorange', label='Modif. Hubble')\n",
    "\n",
    "plt.legend(loc='best', fontsize=16)\n",
    "plt.xlabel(r'$r/r_0$', fontsize=16)\n",
    "plt.ylabel(r'$m(<r)/\\rho_0$', fontsize=16)\n",
    "plt.tick_params(labelsize=16)\n",
    "plt.grid()"
   ]
  },
  {
   "cell_type": "code",
   "execution_count": 51,
   "metadata": {
    "collapsed": true
   },
   "outputs": [],
   "source": [
    "from scipy.special import betainc"
   ]
  },
  {
   "cell_type": "markdown",
   "metadata": {},
   "source": [
    "$ M = \\frac{4 \\pi}{\\alpha} \\rho_0 r_0^3 B\\left(\\frac{3-\\gamma}{\\alpha}, \\frac{\\beta - 3}{\\alpha}, 1 \\right) $"
   ]
  },
  {
   "cell_type": "code",
   "execution_count": null,
   "metadata": {
    "collapsed": true
   },
   "outputs": [],
   "source": [
    "def mass_beta(r, alpha, beta, gamma):\n",
    "    beta = betainc((3-gamma)/alpha, ()/alpha"
   ]
  }
 ],
 "metadata": {
  "kernelspec": {
   "display_name": "Python 2",
   "language": "python",
   "name": "python2"
  },
  "language_info": {
   "codemirror_mode": {
    "name": "ipython",
    "version": 2
   },
   "file_extension": ".py",
   "mimetype": "text/x-python",
   "name": "python",
   "nbconvert_exporter": "python",
   "pygments_lexer": "ipython2",
   "version": "2.7.9"
  }
 },
 "nbformat": 4,
 "nbformat_minor": 2
}
