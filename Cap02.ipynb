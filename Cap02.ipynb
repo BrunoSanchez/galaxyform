{
 "cells": [
  {
   "cell_type": "markdown",
   "metadata": {},
   "source": [
    "# Formacion de Galaxias\n",
    "\n",
    "### Galaxy Formation: \n",
    "\n",
    "#### Capitulo 2: Observational Facts"
   ]
  },
  {
   "cell_type": "markdown",
   "metadata": {},
   "source": [
    "1. Astronomical Observations\n",
    "    1. Fluxes and magnitudes\n",
    "        1. Wavebands and bandwidths\n",
    "        2. magnitude and color\n",
    "    2. Spectroscopy\n",
    "    3. Distance measurements\n",
    "        1. Trigonometic parallax\n",
    "        2. Motion based methods\n",
    "        3. Standard candels and rulers\n",
    "        4. Redshifts as distances\n",
    "2. Stars\n",
    "3. Galaxies\n",
    "    1. The classification of galaxies\n",
    "        1. Elliptical\n",
    "        2. Spiral\n",
    "        3. Lenticular or S0\n",
    "        4. Irregular\n",
    "    2. Elliptical Galaxies\n",
    "        1. Surface brightness profiles\n",
    "        2. Isophotal shapes\n",
    "        3. Colors\n",
    "        4. Kinematic properties\n",
    "        5. Scaling relations\n",
    "        6. Gas content\n",
    "    3. Spiral galaxies\n",
    "        1. Surface brightness profiles\n",
    "        2. Colors\n",
    "        3. Disk vertical structure\n",
    "        4. Stellar Halos\n",
    "        5. Bars and spiral arms\n",
    "        6. Gas content\n",
    "        7. Kinematics\n",
    "        8. Tully Fisher relation\n",
    "    4. The Milky Way\n",
    "    5. Dwarf Galaxies\n",
    "    6. Nuclear star clusters\n",
    "    7. Starbursts\n",
    "    8. Active Galactic Nuclei\n",
    "4. Statistical properties of the galaxy population\n",
    "    1. Luminosity Function\n",
    "        Schecter function: \n",
    "        \n",
    "        $\\ \\ \\phi(L)dL = \\phi^* (\\frac{L}{L^*})^\\alpha exp(-\\frac{L}{L^*}) \\frac{dL}{L^*}$\n",
    "        \n",
    "        Mean number density $n_g$:\n",
    "        \n",
    "        $n_g := \\int\\limits_0^\\infty \\phi(L)dL = \\phi^* \\Gamma(\\alpha+1)$\n",
    "        \n",
    "        Mean luminosity density $\\mathcal{L}$:\n",
    "        \n",
    "        $\\mathcal{L} = \\int\\limits_0^\\infty \\phi(L) L dL = \\phi^* L^* \\Gamma(\\alpha+2)$"
   ]
  },
  {
   "cell_type": "markdown",
   "metadata": {},
   "source": [
    "+ **Ejercicio 1**: calcular analiticamente la integral de la funcion de luminosidad de Schecter:\n",
    "    \n",
    "Definicion de la funcion Gamma: \n",
    "\n",
    "$\\Gamma(z) := \\int\\limits_0^\\infty x^{z-1}e^{x}dx$"
   ]
  },
  {
   "cell_type": "markdown",
   "metadata": {},
   "source": []
  },
  {
   "cell_type": "markdown",
   "metadata": {},
   "source": []
  },
  {
   "cell_type": "markdown",
   "metadata": {},
   "source": []
  },
  {
   "cell_type": "markdown",
   "metadata": {},
   "source": []
  },
  {
   "cell_type": "markdown",
   "metadata": {},
   "source": []
  },
  {
   "cell_type": "markdown",
   "metadata": {},
   "source": []
  }
 ],
 "metadata": {
  "kernelspec": {
   "display_name": "Python 2",
   "language": "python",
   "name": "python2"
  },
  "language_info": {
   "codemirror_mode": {
    "name": "ipython",
    "version": 2
   },
   "file_extension": ".py",
   "mimetype": "text/x-python",
   "name": "python",
   "nbconvert_exporter": "python",
   "pygments_lexer": "ipython2",
   "version": "2.7.12"
  }
 },
 "nbformat": 4,
 "nbformat_minor": 2
}
