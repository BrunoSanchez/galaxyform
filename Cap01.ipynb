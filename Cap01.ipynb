{
 "cells": [
  {
   "cell_type": "markdown",
   "metadata": {
    "collapsed": true
   },
   "source": [
    "# Formacion de Galaxias\n",
    "\n",
    "### Galaxy Formation: \n",
    "\n",
    "#### Capitulo 1: Introduccion"
   ]
  },
  {
   "cell_type": "markdown",
   "metadata": {},
   "source": [
    "Three main topics of study:\n",
    "\n",
    "* Cosmology\n",
    "* Initial conditions\n",
    "* Physical processes"
   ]
  },
  {
   "cell_type": "markdown",
   "metadata": {},
   "source": [
    "The diversity of galaxy population:\n",
    "1. Morphology: Hubble sequence\n",
    "2. Luminosity and Stellar Mass\n",
    "3. Size and Surface Brightness\n",
    "4. Gas mass fraction:  $f_{gas} = M_{cold}/(M_{cold} + M_{*})$\n",
    "5. Color\n",
    "6. Environment\n",
    "7. Nuclear Activity\n",
    "8. Redshift"
   ]
  },
  {
   "cell_type": "markdown",
   "metadata": {},
   "source": [
    "![Fig. 1.1](./images/fig1_1.png \"Flowchart\")"
   ]
  },
  {
   "cell_type": "markdown",
   "metadata": {},
   "source": [
    "##### Standard model of cosmology\n",
    "\n"
   ]
  },
  {
   "cell_type": "markdown",
   "metadata": {},
   "source": []
  },
  {
   "cell_type": "markdown",
   "metadata": {},
   "source": [
    "#####  Timescales"
   ]
  },
  {
   "cell_type": "markdown",
   "metadata": {},
   "source": [
    "* Hubble Time: \n",
    "\n",
    "   Hubble's Law  \n",
    "   $d = \\frac{v}{H_0}$\n",
    "     \n",
    "   Hubble time is as if velocity was unitary, and is the time (or distance) given $H_0$.\n",
    "    \n",
    "   $v=0$  \n",
    "   $t_{H_0} = 1/H_0$"
   ]
  },
  {
   "cell_type": "markdown",
   "metadata": {},
   "source": [
    "* Dynamical time:\n",
    "  Is the time required for a test mass to orbit a $M$ mass, \n",
    "  given an $R$ radius\n",
    "    \n",
    "    $t_{dyn} = \\sqrt{\\frac{3\\pi}{16 G \\bar{\\rho}}}$\n",
    "    \n",
    "    where\n",
    "    $\\bar{\\rho} = \\frac{3M}{4\\pi R^3}$"
   ]
  },
  {
   "cell_type": "markdown",
   "metadata": {},
   "source": [
    "* Free fall time:\n",
    " the time of "
   ]
  },
  {
   "cell_type": "markdown",
   "metadata": {},
   "source": []
  },
  {
   "cell_type": "markdown",
   "metadata": {},
   "source": []
  },
  {
   "cell_type": "markdown",
   "metadata": {},
   "source": []
  }
 ],
 "metadata": {
  "kernelspec": {
   "display_name": "Python 2",
   "language": "python",
   "name": "python2"
  },
  "language_info": {
   "codemirror_mode": {
    "name": "ipython",
    "version": 2
   },
   "file_extension": ".py",
   "mimetype": "text/x-python",
   "name": "python",
   "nbconvert_exporter": "python",
   "pygments_lexer": "ipython2",
   "version": "2.7.12"
  }
 },
 "nbformat": 4,
 "nbformat_minor": 2
}
